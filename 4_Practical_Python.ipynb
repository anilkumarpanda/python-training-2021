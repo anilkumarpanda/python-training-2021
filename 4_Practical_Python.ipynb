{
 "cells": [
  {
   "cell_type": "code",
   "execution_count": 3,
   "metadata": {},
   "outputs": [],
   "source": [
    "from loguru import logger\n",
    "import sys\n",
    "import numpy as np\n",
    "import pandas as pd\n",
    "import yaml\n",
    "\n",
    "logger.add(\"application.log\", format=\"{time} {level} {message}\", level=\"INFO\")\n",
    "\n",
    "\n",
    "def do_something(x):\n",
    "    \"\"\"\n",
    "    This function does something.\n",
    "    Args :\n",
    "        x: Argument to do something.\n",
    "    Returns :\n",
    "        x: Returns the variable.\n",
    "    \"\"\"\n",
    "    return (\n",
    "        x+ 1+ 1+ 1+ 1+ 1+ 1+ 1+ 1+ 1+ 1+ 1+ 1+ 1+ 1+ 1+ 1+ 1+ 1+ 1+ 1+ 1+ 1+ 1+ 1+ 1+ 1+ 1+ 1+ 1+ 1+ 1+ 1+ 1+ 1+ 1+ 1+ 1+ 1\n",
    "    )\n",
    "\n",
    "\n",
    "def read_config(path=\"config.yaml\"):\n",
    "    \"\"\"\n",
    "    Method to read the configutation file.\n",
    "    Args :\n",
    "        path : Path to the confi file.\n",
    "    Returns :\n",
    "        configuration : Dictionary of for configuration file.\n",
    "\n",
    "    \"\"\"\n",
    "    with open(path) as f:\n",
    "        config = yaml.safe_load(f)\n",
    "    return config\n"
   ]
  },
  {
   "cell_type": "code",
   "execution_count": 5,
   "metadata": {},
   "outputs": [
    {
     "name": "stderr",
     "output_type": "stream",
     "text": [
      "2021-01-19 16:39:32.030 | INFO     | __main__:<module>:3 - Starting code execution for project python_training\n",
      "2021-01-19 16:39:32.032 | INFO     | __main__:<module>:6 - Code execution completed.\n"
     ]
    },
    {
     "name": "stdout",
     "output_type": "stream",
     "text": [
      "68\n",
      "84\n"
     ]
    }
   ],
   "source": [
    "config = read_config()\n",
    "\n",
    "logger.info(f\"Starting code execution for project {config['project_name']}\")\n",
    "print(do_something(30))\n",
    "print(do_something(46))\n",
    "logger.info(\"Code execution completed.\")\n"
   ]
  },
  {
   "cell_type": "markdown",
   "metadata": {},
   "source": [
    "## Excersise ###\n",
    "1. Can you create a function to read the UCI dataset using pandas.\n",
    "2. The path of the dataset is read from a config file.\n",
    "3. Count the no.of columns in the dataframe and write it to a log file.\n"
   ]
  },
  {
   "cell_type": "code",
   "execution_count": null,
   "metadata": {},
   "outputs": [],
   "source": []
  }
 ],
 "metadata": {
  "kernelspec": {
   "display_name": "Python 3",
   "language": "python",
   "name": "python3"
  },
  "language_info": {
   "codemirror_mode": {
    "name": "ipython",
    "version": 3
   },
   "file_extension": ".py",
   "mimetype": "text/x-python",
   "name": "python",
   "nbconvert_exporter": "python",
   "pygments_lexer": "ipython3",
   "version": "3.6.10"
  }
 },
 "nbformat": 4,
 "nbformat_minor": 4
}
