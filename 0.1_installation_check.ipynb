{
 "metadata": {
  "language_info": {
   "codemirror_mode": {
    "name": "ipython",
    "version": 3
   },
   "file_extension": ".py",
   "mimetype": "text/x-python",
   "name": "python",
   "nbconvert_exporter": "python",
   "pygments_lexer": "ipython3",
   "version": "3.6.10-final"
  },
  "orig_nbformat": 2,
  "kernelspec": {
   "name": "Python 3.6.10 64-bit ('gdd3.6': conda)",
   "display_name": "Python 3.6.10 64-bit ('gdd3.6': conda)",
   "metadata": {
    "interpreter": {
     "hash": "8e8814a4ef967ecaf8492651ab534ed1752a80889c1744454da792161c1ce00a"
    }
   }
  }
 },
 "nbformat": 4,
 "nbformat_minor": 2,
 "cells": [
  {
   "cell_type": "code",
   "execution_count": 1,
   "metadata": {},
   "outputs": [
    {
     "output_type": "stream",
     "name": "stdout",
     "text": [
      "If you can run this, the installtion looks good!\n"
     ]
    }
   ],
   "source": [
    "print(\"If you can run this, the installtion looks good!\")"
   ]
  }
 ]
}