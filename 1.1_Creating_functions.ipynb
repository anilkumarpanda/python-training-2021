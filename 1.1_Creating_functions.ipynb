{
 "cells": [
  {
   "cell_type": "markdown",
   "metadata": {},
   "source": [
    "### Imports"
   ]
  },
  {
   "cell_type": "code",
   "execution_count": null,
   "metadata": {},
   "outputs": [],
   "source": [
    "import pandas as pd\n",
    "import numpy as np\n",
    "import matplotlib.pyplot as plt\n",
    "import datetime as dt\n",
    "%matplotlib inline\n",
    "plt.style.use('ggplot')\n",
    "pd.set_option('display.max_rows', 50)\n",
    "pd.set_option('display.max_columns', 30)"
   ]
  },
  {
   "cell_type": "code",
   "execution_count": null,
   "metadata": {},
   "outputs": [],
   "source": [
    "df = pd.read_csv('data/UCI_Credit_Card.csv')"
   ]
  },
  {
   "cell_type": "code",
   "execution_count": null,
   "metadata": {},
   "outputs": [],
   "source": [
    "df.head()"
   ]
  },
  {
   "cell_type": "code",
   "execution_count": null,
   "metadata": {},
   "outputs": [],
   "source": [
    "function_with_good_docstring(df, column='LIMIT_BAL').head()"
   ]
  },
  {
   "cell_type": "code",
   "execution_count": null,
   "metadata": {},
   "outputs": [],
   "source": [
    "df.head()"
   ]
  },
  {
   "cell_type": "markdown",
   "metadata": {},
   "source": [
    "#### Do you notice how the dataframe is now permanently changed after applying the function?\n",
    "\n",
    "This is subtle but we most likely do not want this. We want the original object to stay the same and a separate transformed dataframe. How do we achieve this?\n",
    "\n",
    "Enter `.copy()`\n",
    "\n",
    "This allows us to stop continously overwriting our objects"
   ]
  },
  {
   "cell_type": "markdown",
   "metadata": {},
   "source": [
    "### Chaining\n",
    "\n",
    "Pandas has a great method for chaining that most people don't seem to use. \n",
    "Let's take a look at some common (and mostly bad) methods of applying multiple functions\n",
    "\n",
    "Let's say we need to calculate the following for the balance (x):\n",
    "\n",
    "`y = 3x**2 + 4`"
   ]
  },
  {
   "cell_type": "code",
   "execution_count": null,
   "metadata": {},
   "outputs": [],
   "source": [
    "def first_transformation(df, column='LIMIT_BAL'):\n",
    "    \"\"\"\n",
    "    Squares a given column. \n",
    "    \n",
    "    Args:\n",
    "        df (pandas DataFrame): The transactional data\n",
    "        column (str): The name of the column which we square\n",
    "        \n",
    "    Returns:\n",
    "        df with squared column\n",
    "    \"\"\"\n",
    "    df[column] = df[column]**2\n",
    "    return df\n",
    "\n",
    "def second_transformation(df, column='LIMIT_BAL', factor=3):\n",
    "    \"\"\"\n",
    "    Multiplies a given column by a given factor. \n",
    "    \n",
    "    Args:\n",
    "        df (pandas DataFrame): The transactional data\n",
    "        column (str): The name of the column on which we multiple the factor.\n",
    "        factor (float): The factor\n",
    "        \n",
    "    Returns:\n",
    "        df with multipled column\n",
    "    \"\"\"\n",
    "    df[column] = df[column]*factor\n",
    "    return df\n",
    "\n",
    "def third_transformation(df, column='LIMIT_BAL', factor=4):\n",
    "    \"\"\"\n",
    "    Adds a given factor to a given column. \n",
    "    \n",
    "    Args:\n",
    "        df (pandas DataFrame): The transactional data\n",
    "        column (str): The name of the column on which we add the factor.\n",
    "        factor (float): The factor\n",
    "        \n",
    "    Returns:\n",
    "        df with divided column\n",
    "    \"\"\"\n",
    "    df[column] = df[column] + factor\n",
    "    return df\n",
    "    "
   ]
  },
  {
   "cell_type": "markdown",
   "metadata": {},
   "source": [
    "### Ugly method number 1"
   ]
  },
  {
   "cell_type": "code",
   "execution_count": null,
   "metadata": {},
   "outputs": [],
   "source": [
    "df = pd.read_csv('../../data/UCI_Credit_Card.csv')\n",
    "df = third_transformation(second_transformation(first_transformation(df)))"
   ]
  },
  {
   "cell_type": "code",
   "execution_count": null,
   "metadata": {},
   "outputs": [],
   "source": [
    "df.head()"
   ]
  },
  {
   "cell_type": "markdown",
   "metadata": {},
   "source": [
    "### Ugly (but common) method number 2"
   ]
  },
  {
   "cell_type": "code",
   "execution_count": null,
   "metadata": {},
   "outputs": [],
   "source": [
    "df = pd.read_csv('../../data/UCI_Credit_Card.csv')\n",
    "df = df.copy()\n",
    "df = first_transformation(df)\n",
    "df = second_transformation(df)\n",
    "df = third_transformation(df)"
   ]
  },
  {
   "cell_type": "code",
   "execution_count": null,
   "metadata": {},
   "outputs": [],
   "source": [
    "df.head()"
   ]
  },
  {
   "cell_type": "markdown",
   "metadata": {},
   "source": [
    "### Best practice"
   ]
  },
  {
   "cell_type": "code",
   "execution_count": null,
   "metadata": {},
   "outputs": [],
   "source": [
    "def read_data(path):\n",
    "    # What is this function missing?\n",
    "    return pd.read_csv(path)\n",
    "\n",
    "def copy_df(df):\n",
    "    # What is this function missing?\n",
    "    return df.copy()"
   ]
  },
  {
   "cell_type": "code",
   "execution_count": null,
   "metadata": {},
   "outputs": [],
   "source": [
    "df = read_data(path='../../data/UCI_Credit_Card.csv')\n",
    "\n",
    "df = (\n",
    "    copy_df(df)\n",
    "    .pipe(first_transformation)\n",
    "    .pipe(second_transformation)\n",
    "    .pipe(third_transformation)\n",
    ")"
   ]
  },
  {
   "cell_type": "markdown",
   "metadata": {},
   "source": [
    "### Note the differences with the arguments\n",
    "\n",
    "#### Exercise.\n",
    "1. Write a function that squares BILL_AMT1 if MARRIAGE==1. Save this in a column called \"BILL_MANIPULATION\".\n",
    "2. Write another function that divides this new column by LIMIT_BAL. Overwrite BILL_MANIPULATION.\n",
    "3. Write a final function that sets BILL_AMT2 to 0 if BILL_MANIPULATION > 500\n",
    "4. Chain all of these together\n",
    "\n",
    "\n"
   ]
  },
  {
   "cell_type": "markdown",
   "metadata": {},
   "source": [
    "#### Exercise\n",
    "\n",
    "Write a function that takes as parameter a number and returns True if it is even and False if it is odd."
   ]
  },
  {
   "cell_type": "code",
   "execution_count": null,
   "metadata": {},
   "outputs": [],
   "source": []
  }
 ],
 "metadata": {
  "kernelspec": {
   "display_name": "Python 3",
   "language": "python",
   "name": "python3"
  },
  "language_info": {
   "codemirror_mode": {
    "name": "ipython",
    "version": 3
   },
   "file_extension": ".py",
   "mimetype": "text/x-python",
   "name": "python",
   "nbconvert_exporter": "python",
   "pygments_lexer": "ipython3",
   "version": "3.6.10"
  }
 },
 "nbformat": 4,
 "nbformat_minor": 4
}
